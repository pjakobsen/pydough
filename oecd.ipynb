{
 "metadata": {
  "language_info": {
   "codemirror_mode": {
    "name": "ipython",
    "version": 3
   },
   "file_extension": ".py",
   "mimetype": "text/x-python",
   "name": "python",
   "nbconvert_exporter": "python",
   "pygments_lexer": "ipython3",
   "version": "3.8.2-final"
  },
  "orig_nbformat": 2,
  "kernelspec": {
   "name": "python3",
   "display_name": "Python 3.8.2 64-bit ('economics': conda)",
   "metadata": {
    "interpreter": {
     "hash": "eb4fb35b5ac8857a264f8e6b90ba19c99ae8abe82f7c3eac274ff45e37750292"
    }
   }
  }
 },
 "nbformat": 4,
 "nbformat_minor": 2,
 "cells": [
  {
   "cell_type": "code",
   "execution_count": 2,
   "metadata": {},
   "outputs": [],
   "source": [
    "import pandas as pd"
   ]
  },
  {
   "cell_type": "code",
   "execution_count": 3,
   "metadata": {},
   "outputs": [],
   "source": [
    "df = pd.read_stata('http://global.oup.com/uk/orc/busecon/economics/dougherty5e/student/datasets/oecd/stata/oecd.dta')"
   ]
  },
  {
   "cell_type": "code",
   "execution_count": 4,
   "metadata": {},
   "outputs": [
    {
     "output_type": "execute_result",
     "data": {
      "text/plain": [
       "        country  WAGES     PRICES   GDP  EMPLOY  MONEY1     MONEY2   UNEMPLOY\n",
       "0    Ausstralia   4.41   3.750000  3.04    1.68    9.10  10.980000   8.680000\n",
       "1       Austria   4.15   2.710000  2.55    0.65    5.37   7.370000   5.480000\n",
       "2       Belgium   3.99   2.370000  2.16    0.34    5.87        NaN   8.490000\n",
       "3        Canada   3.76   2.830000  2.03    1.17    6.13   8.510000   9.510000\n",
       "4       Denmark   3.78   2.610000  2.02    0.02    3.21   4.510000   7.680000\n",
       "5       Finland   5.65   3.110000  1.78   -1.06    5.97        NaN  10.440000\n",
       "6        France   3.55   2.400000  2.08    0.28    5.19   4.050000  10.840000\n",
       "7       Germany   4.08   2.780000  2.71    0.08    9.08   7.590000   6.860000\n",
       "8        Greece  14.18  13.090000  2.08    0.87   14.46  14.140000   8.840000\n",
       "9       Iceland    NaN   8.420000  1.54   -0.13   10.73  13.640000   3.070000\n",
       "10      Ireland   4.50   2.510000  6.40    2.16     NaN        NaN  13.810000\n",
       "11        Italy   6.16   4.860000  1.68   -0.30    4.75   4.170000  10.460000\n",
       "12        Japan   2.28   1.470000  2.81    1.06    5.56   4.490000   2.650000\n",
       "13        Korea  12.83   6.130000  7.73    2.57     NaN  17.590000   2.400000\n",
       "14   Luxembourg    NaN   2.530000  5.64    3.02     NaN   7.220000   2.390000\n",
       "15       Mexico    NaN  30.590000  2.67    4.56     NaN  32.529999   3.710000\n",
       "16  Netherlands   2.59   2.220000  2.86    1.88    6.31   6.610000   6.410000\n",
       "17       Norway   4.31   3.120000  2.98    0.36    5.98   4.660000   5.070000\n",
       "18           NZ   3.39   3.220000  2.01    0.91    8.16   7.800000   7.780000\n",
       "19     Portugal  10.58   7.710000  2.79    0.33   12.35  12.080000   5.730000\n",
       "20        Spain   6.37   4.980000  2.60    0.89   10.49   9.250000  20.040001\n",
       "21       Sweden   6.23   4.710000  1.17   -0.94    6.09        NaN   6.050000\n",
       "22  Switzerland   3.02   2.770000  1.15    0.79    4.27   5.100000   2.850000\n",
       "23       Turkey    NaN  75.980003  4.18    2.02     NaN        NaN   7.600000\n",
       "24           UK   5.45   5.480000  1.97    0.66    9.23   9.510000   8.700000\n",
       "25          USA   3.70   3.510000  2.46    1.53    3.73   3.880000   5.960000"
      ],
      "text/html": "<div>\n<style scoped>\n    .dataframe tbody tr th:only-of-type {\n        vertical-align: middle;\n    }\n\n    .dataframe tbody tr th {\n        vertical-align: top;\n    }\n\n    .dataframe thead th {\n        text-align: right;\n    }\n</style>\n<table border=\"1\" class=\"dataframe\">\n  <thead>\n    <tr style=\"text-align: right;\">\n      <th></th>\n      <th>country</th>\n      <th>WAGES</th>\n      <th>PRICES</th>\n      <th>GDP</th>\n      <th>EMPLOY</th>\n      <th>MONEY1</th>\n      <th>MONEY2</th>\n      <th>UNEMPLOY</th>\n    </tr>\n  </thead>\n  <tbody>\n    <tr>\n      <th>0</th>\n      <td>Ausstralia</td>\n      <td>4.41</td>\n      <td>3.750000</td>\n      <td>3.04</td>\n      <td>1.68</td>\n      <td>9.10</td>\n      <td>10.980000</td>\n      <td>8.680000</td>\n    </tr>\n    <tr>\n      <th>1</th>\n      <td>Austria</td>\n      <td>4.15</td>\n      <td>2.710000</td>\n      <td>2.55</td>\n      <td>0.65</td>\n      <td>5.37</td>\n      <td>7.370000</td>\n      <td>5.480000</td>\n    </tr>\n    <tr>\n      <th>2</th>\n      <td>Belgium</td>\n      <td>3.99</td>\n      <td>2.370000</td>\n      <td>2.16</td>\n      <td>0.34</td>\n      <td>5.87</td>\n      <td>NaN</td>\n      <td>8.490000</td>\n    </tr>\n    <tr>\n      <th>3</th>\n      <td>Canada</td>\n      <td>3.76</td>\n      <td>2.830000</td>\n      <td>2.03</td>\n      <td>1.17</td>\n      <td>6.13</td>\n      <td>8.510000</td>\n      <td>9.510000</td>\n    </tr>\n    <tr>\n      <th>4</th>\n      <td>Denmark</td>\n      <td>3.78</td>\n      <td>2.610000</td>\n      <td>2.02</td>\n      <td>0.02</td>\n      <td>3.21</td>\n      <td>4.510000</td>\n      <td>7.680000</td>\n    </tr>\n    <tr>\n      <th>5</th>\n      <td>Finland</td>\n      <td>5.65</td>\n      <td>3.110000</td>\n      <td>1.78</td>\n      <td>-1.06</td>\n      <td>5.97</td>\n      <td>NaN</td>\n      <td>10.440000</td>\n    </tr>\n    <tr>\n      <th>6</th>\n      <td>France</td>\n      <td>3.55</td>\n      <td>2.400000</td>\n      <td>2.08</td>\n      <td>0.28</td>\n      <td>5.19</td>\n      <td>4.050000</td>\n      <td>10.840000</td>\n    </tr>\n    <tr>\n      <th>7</th>\n      <td>Germany</td>\n      <td>4.08</td>\n      <td>2.780000</td>\n      <td>2.71</td>\n      <td>0.08</td>\n      <td>9.08</td>\n      <td>7.590000</td>\n      <td>6.860000</td>\n    </tr>\n    <tr>\n      <th>8</th>\n      <td>Greece</td>\n      <td>14.18</td>\n      <td>13.090000</td>\n      <td>2.08</td>\n      <td>0.87</td>\n      <td>14.46</td>\n      <td>14.140000</td>\n      <td>8.840000</td>\n    </tr>\n    <tr>\n      <th>9</th>\n      <td>Iceland</td>\n      <td>NaN</td>\n      <td>8.420000</td>\n      <td>1.54</td>\n      <td>-0.13</td>\n      <td>10.73</td>\n      <td>13.640000</td>\n      <td>3.070000</td>\n    </tr>\n    <tr>\n      <th>10</th>\n      <td>Ireland</td>\n      <td>4.50</td>\n      <td>2.510000</td>\n      <td>6.40</td>\n      <td>2.16</td>\n      <td>NaN</td>\n      <td>NaN</td>\n      <td>13.810000</td>\n    </tr>\n    <tr>\n      <th>11</th>\n      <td>Italy</td>\n      <td>6.16</td>\n      <td>4.860000</td>\n      <td>1.68</td>\n      <td>-0.30</td>\n      <td>4.75</td>\n      <td>4.170000</td>\n      <td>10.460000</td>\n    </tr>\n    <tr>\n      <th>12</th>\n      <td>Japan</td>\n      <td>2.28</td>\n      <td>1.470000</td>\n      <td>2.81</td>\n      <td>1.06</td>\n      <td>5.56</td>\n      <td>4.490000</td>\n      <td>2.650000</td>\n    </tr>\n    <tr>\n      <th>13</th>\n      <td>Korea</td>\n      <td>12.83</td>\n      <td>6.130000</td>\n      <td>7.73</td>\n      <td>2.57</td>\n      <td>NaN</td>\n      <td>17.590000</td>\n      <td>2.400000</td>\n    </tr>\n    <tr>\n      <th>14</th>\n      <td>Luxembourg</td>\n      <td>NaN</td>\n      <td>2.530000</td>\n      <td>5.64</td>\n      <td>3.02</td>\n      <td>NaN</td>\n      <td>7.220000</td>\n      <td>2.390000</td>\n    </tr>\n    <tr>\n      <th>15</th>\n      <td>Mexico</td>\n      <td>NaN</td>\n      <td>30.590000</td>\n      <td>2.67</td>\n      <td>4.56</td>\n      <td>NaN</td>\n      <td>32.529999</td>\n      <td>3.710000</td>\n    </tr>\n    <tr>\n      <th>16</th>\n      <td>Netherlands</td>\n      <td>2.59</td>\n      <td>2.220000</td>\n      <td>2.86</td>\n      <td>1.88</td>\n      <td>6.31</td>\n      <td>6.610000</td>\n      <td>6.410000</td>\n    </tr>\n    <tr>\n      <th>17</th>\n      <td>Norway</td>\n      <td>4.31</td>\n      <td>3.120000</td>\n      <td>2.98</td>\n      <td>0.36</td>\n      <td>5.98</td>\n      <td>4.660000</td>\n      <td>5.070000</td>\n    </tr>\n    <tr>\n      <th>18</th>\n      <td>NZ</td>\n      <td>3.39</td>\n      <td>3.220000</td>\n      <td>2.01</td>\n      <td>0.91</td>\n      <td>8.16</td>\n      <td>7.800000</td>\n      <td>7.780000</td>\n    </tr>\n    <tr>\n      <th>19</th>\n      <td>Portugal</td>\n      <td>10.58</td>\n      <td>7.710000</td>\n      <td>2.79</td>\n      <td>0.33</td>\n      <td>12.35</td>\n      <td>12.080000</td>\n      <td>5.730000</td>\n    </tr>\n    <tr>\n      <th>20</th>\n      <td>Spain</td>\n      <td>6.37</td>\n      <td>4.980000</td>\n      <td>2.60</td>\n      <td>0.89</td>\n      <td>10.49</td>\n      <td>9.250000</td>\n      <td>20.040001</td>\n    </tr>\n    <tr>\n      <th>21</th>\n      <td>Sweden</td>\n      <td>6.23</td>\n      <td>4.710000</td>\n      <td>1.17</td>\n      <td>-0.94</td>\n      <td>6.09</td>\n      <td>NaN</td>\n      <td>6.050000</td>\n    </tr>\n    <tr>\n      <th>22</th>\n      <td>Switzerland</td>\n      <td>3.02</td>\n      <td>2.770000</td>\n      <td>1.15</td>\n      <td>0.79</td>\n      <td>4.27</td>\n      <td>5.100000</td>\n      <td>2.850000</td>\n    </tr>\n    <tr>\n      <th>23</th>\n      <td>Turkey</td>\n      <td>NaN</td>\n      <td>75.980003</td>\n      <td>4.18</td>\n      <td>2.02</td>\n      <td>NaN</td>\n      <td>NaN</td>\n      <td>7.600000</td>\n    </tr>\n    <tr>\n      <th>24</th>\n      <td>UK</td>\n      <td>5.45</td>\n      <td>5.480000</td>\n      <td>1.97</td>\n      <td>0.66</td>\n      <td>9.23</td>\n      <td>9.510000</td>\n      <td>8.700000</td>\n    </tr>\n    <tr>\n      <th>25</th>\n      <td>USA</td>\n      <td>3.70</td>\n      <td>3.510000</td>\n      <td>2.46</td>\n      <td>1.53</td>\n      <td>3.73</td>\n      <td>3.880000</td>\n      <td>5.960000</td>\n    </tr>\n  </tbody>\n</table>\n</div>"
     },
     "metadata": {},
     "execution_count": 4
    }
   ],
   "source": [
    "df"
   ]
  },
  {
   "cell_type": "code",
   "execution_count": 5,
   "metadata": {},
   "outputs": [],
   "source": [
    "import matplotlib.pyplot as plt\n",
    "import statsmodels.formula.api as smf"
   ]
  },
  {
   "cell_type": "code",
   "execution_count": 6,
   "metadata": {},
   "outputs": [
    {
     "output_type": "stream",
     "name": "stdout",
     "text": [
      "                            OLS Regression Results                            \n==============================================================================\nDep. Variable:                 EMPLOY   R-squared:                       0.369\nModel:                            OLS   Adj. R-squared:                  0.343\nMethod:                 Least Squares   F-statistic:                     14.06\nDate:                Thu, 25 Feb 2021   Prob (F-statistic):           0.000988\nTime:                        17:35:53   Log-Likelihood:                -35.849\nNo. Observations:                  26   AIC:                             75.70\nDf Residuals:                      24   BIC:                             78.21\nDf Model:                           1                                         \nCovariance Type:            nonrobust                                         \n==============================================================================\n                 coef    std err          t      P>|t|      [0.025      0.975]\n------------------------------------------------------------------------------\nIntercept     -0.3750      0.410     -0.914      0.370      -1.222       0.472\nGDP            0.4809      0.128      3.750      0.001       0.216       0.746\n==============================================================================\nOmnibus:                       24.891   Durbin-Watson:                   1.537\nProb(Omnibus):                  0.000   Jarque-Bera (JB):               47.920\nSkew:                           1.868   Prob(JB):                     3.93e-11\nKurtosis:                       8.503   Cond. No.                         7.21\n==============================================================================\n\nWarnings:\n[1] Standard Errors assume that the covariance matrix of the errors is correctly specified.\n"
     ]
    }
   ],
   "source": [
    "mod = smf.ols('EMPLOY ~ GDP', data=df)\n",
    "res = mod.fit()\n",
    "print(res.summary())"
   ]
  },
  {
   "cell_type": "code",
   "execution_count": null,
   "metadata": {},
   "outputs": [],
   "source": []
  }
 ]
}